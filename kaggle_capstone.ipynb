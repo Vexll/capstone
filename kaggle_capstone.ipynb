{
 "cells": [
  {
   "cell_type": "code",
   "execution_count": null,
   "id": "initial_id",
   "metadata": {
    "collapsed": true
   },
   "outputs": [],
   "source": [
    "!pip install ultralytics"
   ]
  },
  {
   "cell_type": "code",
   "outputs": [],
   "source": [
    "!pip install -U ipywidgets"
   ],
   "metadata": {
    "collapsed": false
   },
   "id": "733e279cf6cbd73e"
  },
  {
   "cell_type": "code",
   "outputs": [],
   "source": [
    "from ultralytics import YOLO\n",
    "import os"
   ],
   "metadata": {
    "collapsed": false
   },
   "id": "479250cf23a2e87"
  },
  {
   "cell_type": "markdown",
   "source": [
    "#### Data Augmentation Step"
   ],
   "metadata": {
    "collapsed": false
   },
   "id": "6595727ce21e0aaf"
  },
  {
   "cell_type": "code",
   "outputs": [],
   "source": [
    "model = YOLO('yolov8n.pt')"
   ],
   "metadata": {
    "collapsed": false
   },
   "id": "cc705e7d05e6ab7f"
  },
  {
   "cell_type": "markdown",
   "source": [
    "#### trainning the model"
   ],
   "metadata": {
    "collapsed": false
   },
   "id": "dddd1c259b9c1ada"
  },
  {
   "cell_type": "code",
   "outputs": [],
   "source": [
    "results = model.train(\n",
    "    data= '/kaggle/input/drowning-detection/Drowning_Detection.v2i.yolov8/data.yaml',\n",
    "    epochs=100,\n",
    "    imgsz=640,\n",
    "    patience=50,\n",
    "    device=0,\n",
    "    batch=64\n",
    ")"
   ],
   "metadata": {
    "collapsed": false
   },
   "id": "c4895adf32cff842"
  }
 ],
 "metadata": {
  "kernelspec": {
   "display_name": "Python 3",
   "language": "python",
   "name": "python3"
  },
  "language_info": {
   "codemirror_mode": {
    "name": "ipython",
    "version": 2
   },
   "file_extension": ".py",
   "mimetype": "text/x-python",
   "name": "python",
   "nbconvert_exporter": "python",
   "pygments_lexer": "ipython2",
   "version": "2.7.6"
  }
 },
 "nbformat": 4,
 "nbformat_minor": 5
}
