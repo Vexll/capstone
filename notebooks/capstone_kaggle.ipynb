{
 "metadata": {
  "kernelspec": {
   "language": "python",
   "display_name": "Python 3",
   "name": "python3"
  },
  "language_info": {
   "name": "python",
   "version": "3.10.13",
   "mimetype": "text/x-python",
   "codemirror_mode": {
    "name": "ipython",
    "version": 3
   },
   "pygments_lexer": "ipython3",
   "nbconvert_exporter": "python",
   "file_extension": ".py"
  },
  "kaggle": {
   "accelerator": "nvidiaTeslaT4",
   "dataSources": [
    {
     "sourceId": 8490842,
     "sourceType": "datasetVersion",
     "datasetId": 5065701
    },
    {
     "sourceId": 8498424,
     "sourceType": "datasetVersion",
     "datasetId": 5071288
    },
    {
     "sourceId": 8509469,
     "sourceType": "datasetVersion",
     "datasetId": 5079545
    },
    {
     "sourceId": 8509507,
     "sourceType": "datasetVersion",
     "datasetId": 5079571
    }
   ],
   "isInternetEnabled": true,
   "language": "python",
   "sourceType": "notebook",
   "isGpuEnabled": true
  }
 },
 "nbformat_minor": 4,
 "nbformat": 4,
 "cells": [
  {
   "cell_type": "code",
   "source": [
    "import time\n",
    "!pip install ultralytics"
   ],
   "metadata": {
    "_uuid": "8f2839f25d086af736a60e9eeb907d3b93b6e0e5",
    "_cell_guid": "b1076dfc-b9ad-4769-8c92-a6c4dae69d19",
    "execution": {
     "iopub.status.busy": "2024-05-26T18:08:18.086772Z",
     "iopub.execute_input": "2024-05-26T18:08:18.087609Z",
     "iopub.status.idle": "2024-05-26T18:08:33.578944Z",
     "shell.execute_reply.started": "2024-05-26T18:08:18.087569Z",
     "shell.execute_reply": "2024-05-26T18:08:33.578016Z"
    },
    "collapsed": true,
    "jupyter": {
     "outputs_hidden": true
    },
    "trusted": true,
    "ExecuteTime": {
     "end_time": "2024-05-27T18:04:52.363754Z",
     "start_time": "2024-05-27T18:04:51.171761Z"
    }
   },
   "execution_count": 1,
   "outputs": [
    {
     "name": "stdout",
     "output_type": "stream",
     "text": [
      "Requirement already satisfied: ultralytics in /Users/alialghamdi/miniconda3/envs/deep_learning/lib/python3.9/site-packages (8.2.22)\r\n",
      "Requirement already satisfied: matplotlib>=3.3.0 in /Users/alialghamdi/miniconda3/envs/deep_learning/lib/python3.9/site-packages (from ultralytics) (3.9.0)\r\n",
      "Requirement already satisfied: opencv-python>=4.6.0 in /Users/alialghamdi/miniconda3/envs/deep_learning/lib/python3.9/site-packages (from ultralytics) (4.9.0.80)\r\n",
      "Requirement already satisfied: pillow>=7.1.2 in /Users/alialghamdi/miniconda3/envs/deep_learning/lib/python3.9/site-packages (from ultralytics) (10.3.0)\r\n",
      "Requirement already satisfied: pyyaml>=5.3.1 in /Users/alialghamdi/miniconda3/envs/deep_learning/lib/python3.9/site-packages (from ultralytics) (6.0.1)\r\n",
      "Requirement already satisfied: requests>=2.23.0 in /Users/alialghamdi/miniconda3/envs/deep_learning/lib/python3.9/site-packages (from ultralytics) (2.32.2)\r\n",
      "Requirement already satisfied: scipy>=1.4.1 in /Users/alialghamdi/miniconda3/envs/deep_learning/lib/python3.9/site-packages (from ultralytics) (1.13.1)\r\n",
      "Requirement already satisfied: torch>=1.8.0 in /Users/alialghamdi/miniconda3/envs/deep_learning/lib/python3.9/site-packages (from ultralytics) (2.3.0)\r\n",
      "Requirement already satisfied: torchvision>=0.9.0 in /Users/alialghamdi/miniconda3/envs/deep_learning/lib/python3.9/site-packages (from ultralytics) (0.18.0)\r\n",
      "Requirement already satisfied: tqdm>=4.64.0 in /Users/alialghamdi/miniconda3/envs/deep_learning/lib/python3.9/site-packages (from ultralytics) (4.66.4)\r\n",
      "Requirement already satisfied: psutil in /Users/alialghamdi/miniconda3/envs/deep_learning/lib/python3.9/site-packages (from ultralytics) (5.9.8)\r\n",
      "Requirement already satisfied: py-cpuinfo in /Users/alialghamdi/miniconda3/envs/deep_learning/lib/python3.9/site-packages (from ultralytics) (9.0.0)\r\n",
      "Requirement already satisfied: thop>=0.1.1 in /Users/alialghamdi/miniconda3/envs/deep_learning/lib/python3.9/site-packages (from ultralytics) (0.1.1.post2209072238)\r\n",
      "Requirement already satisfied: pandas>=1.1.4 in /Users/alialghamdi/miniconda3/envs/deep_learning/lib/python3.9/site-packages (from ultralytics) (2.2.2)\r\n",
      "Requirement already satisfied: seaborn>=0.11.0 in /Users/alialghamdi/miniconda3/envs/deep_learning/lib/python3.9/site-packages (from ultralytics) (0.13.2)\r\n",
      "Requirement already satisfied: contourpy>=1.0.1 in /Users/alialghamdi/miniconda3/envs/deep_learning/lib/python3.9/site-packages (from matplotlib>=3.3.0->ultralytics) (1.2.1)\r\n",
      "Requirement already satisfied: cycler>=0.10 in /Users/alialghamdi/miniconda3/envs/deep_learning/lib/python3.9/site-packages (from matplotlib>=3.3.0->ultralytics) (0.12.1)\r\n",
      "Requirement already satisfied: fonttools>=4.22.0 in /Users/alialghamdi/miniconda3/envs/deep_learning/lib/python3.9/site-packages (from matplotlib>=3.3.0->ultralytics) (4.52.1)\r\n",
      "Requirement already satisfied: kiwisolver>=1.3.1 in /Users/alialghamdi/miniconda3/envs/deep_learning/lib/python3.9/site-packages (from matplotlib>=3.3.0->ultralytics) (1.4.5)\r\n",
      "Requirement already satisfied: numpy>=1.23 in /Users/alialghamdi/miniconda3/envs/deep_learning/lib/python3.9/site-packages (from matplotlib>=3.3.0->ultralytics) (1.26.4)\r\n",
      "Requirement already satisfied: packaging>=20.0 in /Users/alialghamdi/miniconda3/envs/deep_learning/lib/python3.9/site-packages (from matplotlib>=3.3.0->ultralytics) (24.0)\r\n",
      "Requirement already satisfied: pyparsing>=2.3.1 in /Users/alialghamdi/miniconda3/envs/deep_learning/lib/python3.9/site-packages (from matplotlib>=3.3.0->ultralytics) (3.1.2)\r\n",
      "Requirement already satisfied: python-dateutil>=2.7 in /Users/alialghamdi/miniconda3/envs/deep_learning/lib/python3.9/site-packages (from matplotlib>=3.3.0->ultralytics) (2.9.0.post0)\r\n",
      "Requirement already satisfied: importlib-resources>=3.2.0 in /Users/alialghamdi/miniconda3/envs/deep_learning/lib/python3.9/site-packages (from matplotlib>=3.3.0->ultralytics) (6.4.0)\r\n",
      "Requirement already satisfied: pytz>=2020.1 in /Users/alialghamdi/miniconda3/envs/deep_learning/lib/python3.9/site-packages (from pandas>=1.1.4->ultralytics) (2024.1)\r\n",
      "Requirement already satisfied: tzdata>=2022.7 in /Users/alialghamdi/miniconda3/envs/deep_learning/lib/python3.9/site-packages (from pandas>=1.1.4->ultralytics) (2024.1)\r\n",
      "Requirement already satisfied: charset-normalizer<4,>=2 in /Users/alialghamdi/miniconda3/envs/deep_learning/lib/python3.9/site-packages (from requests>=2.23.0->ultralytics) (3.3.2)\r\n",
      "Requirement already satisfied: idna<4,>=2.5 in /Users/alialghamdi/miniconda3/envs/deep_learning/lib/python3.9/site-packages (from requests>=2.23.0->ultralytics) (3.7)\r\n",
      "Requirement already satisfied: urllib3<3,>=1.21.1 in /Users/alialghamdi/miniconda3/envs/deep_learning/lib/python3.9/site-packages (from requests>=2.23.0->ultralytics) (2.2.1)\r\n",
      "Requirement already satisfied: certifi>=2017.4.17 in /Users/alialghamdi/miniconda3/envs/deep_learning/lib/python3.9/site-packages (from requests>=2.23.0->ultralytics) (2024.2.2)\r\n",
      "Requirement already satisfied: filelock in /Users/alialghamdi/miniconda3/envs/deep_learning/lib/python3.9/site-packages (from torch>=1.8.0->ultralytics) (3.14.0)\r\n",
      "Requirement already satisfied: typing-extensions>=4.8.0 in /Users/alialghamdi/miniconda3/envs/deep_learning/lib/python3.9/site-packages (from torch>=1.8.0->ultralytics) (4.12.0)\r\n",
      "Requirement already satisfied: sympy in /Users/alialghamdi/miniconda3/envs/deep_learning/lib/python3.9/site-packages (from torch>=1.8.0->ultralytics) (1.12)\r\n",
      "Requirement already satisfied: networkx in /Users/alialghamdi/miniconda3/envs/deep_learning/lib/python3.9/site-packages (from torch>=1.8.0->ultralytics) (3.2.1)\r\n",
      "Requirement already satisfied: jinja2 in /Users/alialghamdi/miniconda3/envs/deep_learning/lib/python3.9/site-packages (from torch>=1.8.0->ultralytics) (3.1.4)\r\n",
      "Requirement already satisfied: fsspec in /Users/alialghamdi/miniconda3/envs/deep_learning/lib/python3.9/site-packages (from torch>=1.8.0->ultralytics) (2024.5.0)\r\n",
      "Requirement already satisfied: zipp>=3.1.0 in /Users/alialghamdi/miniconda3/envs/deep_learning/lib/python3.9/site-packages (from importlib-resources>=3.2.0->matplotlib>=3.3.0->ultralytics) (3.19.0)\r\n",
      "Requirement already satisfied: six>=1.5 in /Users/alialghamdi/miniconda3/envs/deep_learning/lib/python3.9/site-packages (from python-dateutil>=2.7->matplotlib>=3.3.0->ultralytics) (1.16.0)\r\n",
      "Requirement already satisfied: MarkupSafe>=2.0 in /Users/alialghamdi/miniconda3/envs/deep_learning/lib/python3.9/site-packages (from jinja2->torch>=1.8.0->ultralytics) (2.1.5)\r\n",
      "Requirement already satisfied: mpmath>=0.19 in /Users/alialghamdi/miniconda3/envs/deep_learning/lib/python3.9/site-packages (from sympy->torch>=1.8.0->ultralytics) (1.3.0)\r\n"
     ]
    }
   ]
  },
  {
   "cell_type": "code",
   "source": [
    "!pip install -U ipywidgets"
   ],
   "metadata": {
    "execution": {
     "iopub.status.busy": "2024-05-26T18:08:33.580915Z",
     "iopub.execute_input": "2024-05-26T18:08:33.581218Z",
     "iopub.status.idle": "2024-05-26T18:08:47.124906Z",
     "shell.execute_reply.started": "2024-05-26T18:08:33.581190Z",
     "shell.execute_reply": "2024-05-26T18:08:47.123653Z"
    },
    "collapsed": true,
    "jupyter": {
     "outputs_hidden": true
    },
    "trusted": true,
    "ExecuteTime": {
     "end_time": "2024-05-27T18:04:52.801078Z",
     "start_time": "2024-05-27T18:04:52.365438Z"
    }
   },
   "execution_count": 2,
   "outputs": [
    {
     "name": "stdout",
     "output_type": "stream",
     "text": [
      "^C\r\n",
      "\u001B[31mERROR: Operation cancelled by user\u001B[0m\u001B[31m\r\n",
      "\u001B[0m"
     ]
    }
   ]
  },
  {
   "cell_type": "code",
   "source": [
    "from ultralytics import YOLO"
   ],
   "metadata": {
    "execution": {
     "iopub.status.busy": "2024-05-26T18:08:47.126286Z",
     "iopub.execute_input": "2024-05-26T18:08:47.126660Z",
     "iopub.status.idle": "2024-05-26T18:08:51.541486Z",
     "shell.execute_reply.started": "2024-05-26T18:08:47.126630Z",
     "shell.execute_reply": "2024-05-26T18:08:51.540486Z"
    },
    "trusted": true,
    "ExecuteTime": {
     "end_time": "2024-05-28T17:16:11.886492Z",
     "start_time": "2024-05-28T17:16:07.670619Z"
    }
   },
   "outputs": [],
   "execution_count": 1
  },
  {
   "cell_type": "markdown",
   "source": [
    "### Training the model"
   ],
   "metadata": {}
  },
  {
   "cell_type": "code",
   "source": [
    "results = model.train(\n",
    "    data='/kaggle/input/80-10-10-dataset/data.yaml',\n",
    "    epochs=100,\n",
    "    imgsz=640,\n",
    "    patience=50,\n",
    "    device=0,\n",
    "    batch=64,\n",
    "    optimizer='SGD',\n",
    "    momentum=0.95\n",
    ")"
   ],
   "metadata": {
    "trusted": true,
    "ExecuteTime": {
     "end_time": "2024-05-27T18:04:56.645228Z",
     "start_time": "2024-05-27T18:04:56.645171Z"
    }
   },
   "execution_count": null,
   "outputs": []
  },
  {
   "cell_type": "markdown",
   "source": [
    "### Evaluation"
   ],
   "metadata": {}
  },
  {
   "cell_type": "code",
   "outputs": [],
   "source": [
    "model = YOLO(\"best_80_10_10.pt\")\n",
    "\n",
    "metrics = model.val()\n",
    "metrics.box.map\n",
    "metrics.box.map50\n",
    "metrics.box.map75\n",
    "metrics.box.maps"
   ],
   "metadata": {
    "collapsed": false
   },
   "execution_count": null
  },
  {
   "cell_type": "markdown",
   "source": [
    "### hyperparameter-tuning\n",
    "\n",
    "- in our case SGD as optimizer is better that AdamW\n"
   ],
   "metadata": {}
  },
  {
   "cell_type": "code",
   "source": [
    "model = YOLO(\"best_s_version.pt\")"
   ],
   "metadata": {
    "execution": {
     "iopub.status.busy": "2024-05-26T18:13:53.945523Z",
     "iopub.execute_input": "2024-05-26T18:13:53.945933Z",
     "iopub.status.idle": "2024-05-26T18:13:53.995167Z",
     "shell.execute_reply.started": "2024-05-26T18:13:53.945903Z",
     "shell.execute_reply": "2024-05-26T18:13:53.994307Z"
    },
    "trusted": true
   },
   "execution_count": null,
   "outputs": []
  },
  {
   "cell_type": "markdown",
   "source": [
    "- lr0 = [0.0005, **0.001**, 0.005]\n",
    "- lrf = [0.01, **0.005**]\n",
    "- batch = [16, **32**, 64]\n",
    "- momentum = [0.85, **0.9**, 0.95]\n",
    "- warmup_momentum = [**0.5**]\n",
    "- warmup_bias_lr = [**0.05**, 0.1, 0.2]\n",
    "- weight_decay = [0.0001, **0.0005**, 0.001]\n",
    "- patience = [**30**, 50]\n",
    "- imgsz = [**640**, 800, 1024]\n"
   ],
   "metadata": {}
  },
  {
   "cell_type": "code",
   "outputs": [],
   "source": [
    "results = model.train(\n",
    "    data='/kaggle/input/80-10-10-dataset/data.yaml',\n",
    "    epochs=50,\n",
    "    imgsz=640,\n",
    "    patience=30,\n",
    "    device=0,\n",
    "    batch=32,\n",
    "    optimizer='SGD',\n",
    "    lr0=0.001,\n",
    "    lrf=0.005,\n",
    "    momentum=0.9,\n",
    "    warmup_momentum=0.5,\n",
    "    warmup_bias_lr=0.05,\n",
    "    weight_decay=0.0005,\n",
    ")\n"
   ],
   "metadata": {
    "collapsed": false
   },
   "execution_count": null
  },
  {
   "cell_type": "markdown",
   "source": [
    "### Testing the model"
   ],
   "metadata": {}
  },
  {
   "cell_type": "code",
   "source": [
    "from ultralytics import YOLO\n",
    "from ultralytics.utils.plotting import Annotator\n",
    "import cv2"
   ],
   "metadata": {
    "ExecuteTime": {
     "end_time": "2024-05-28T17:31:07.855387Z",
     "start_time": "2024-05-28T17:31:02.916319Z"
    }
   },
   "outputs": [],
   "execution_count": 1
  },
  {
   "cell_type": "code",
   "outputs": [],
   "source": [
    "model = YOLO(\"best_s_version.pt\")\n",
    "video_path = 'sample_02.mp4'\n",
    "cap = cv2.VideoCapture(video_path)"
   ],
   "metadata": {
    "collapsed": false
   }
  },
  {
   "cell_type": "code",
   "source": [
    "while True:\n",
    "    ret, frame = cap.read()\n",
    "    if not ret:\n",
    "        break\n",
    "\n",
    "    results = model(frame)\n",
    "\n",
    "    for r in results:\n",
    "        annotator = Annotator(frame)\n",
    "\n",
    "        boxes = r.boxes\n",
    "        for box in boxes:\n",
    "            b = box.xyxy[0]\n",
    "            c = box.cls\n",
    "            annotator.box_label(b, model.names[int(c)])\n",
    "\n",
    "    frame = annotator.result()\n",
    "    cv2.imshow(\"Object Detection\", frame)\n",
    "\n",
    "    if cv2.waitKey(1) & 0xFF == ord('q'):\n",
    "        break\n",
    "\n",
    "cap.release()\n",
    "cv2.destroyAllWindows()"
   ],
   "metadata": {
    "ExecuteTime": {
     "end_time": "2024-05-28T17:17:23.100539Z",
     "start_time": "2024-05-28T17:17:23.094723Z"
    }
   },
   "outputs": [],
   "execution_count": 8
  },
  {
   "cell_type": "markdown",
   "source": [],
   "metadata": {
    "collapsed": false
   }
  },
  {
   "cell_type": "markdown",
   "source": [
    "### format the datetime for database purpose "
   ],
   "metadata": {
    "collapsed": false
   }
  },
  {
   "cell_type": "code",
   "outputs": [],
   "source": [
    "from datetime import datetime\n",
    "\n",
    "def format_datetime(dt: datetime):\n",
    "    formatted_datetime = dt.strftime('%Y-%m-%d %H:%M:%S')\n",
    "    return formatted_datetime\n"
   ],
   "metadata": {
    "collapsed": false,
    "ExecuteTime": {
     "end_time": "2024-05-30T14:50:00.754928Z",
     "start_time": "2024-05-30T14:50:00.748659Z"
    }
   },
   "execution_count": 3
  },
  {
   "cell_type": "markdown",
   "source": [
    "### Alarm Testing"
   ],
   "metadata": {
    "collapsed": false
   }
  },
  {
   "cell_type": "code",
   "outputs": [],
   "source": [
    "!pip install pydub pyaudio"
   ],
   "metadata": {
    "collapsed": false
   }
  },
  {
   "cell_type": "code",
   "outputs": [],
   "source": [
    "from alarm import AlarmDetector\n",
    "from pydub import AudioSegment\n",
    "from pydub.playback import play"
   ],
   "metadata": {
    "collapsed": false
   }
  },
  {
   "cell_type": "code",
   "outputs": [],
   "source": [
    "import time\n",
    "\n",
    "model = YOLO(\"../models/best_s_version.pt\")\n",
    "video_path = '../video_samples/sample_01.mp4'\n",
    "alarm_sound = AudioSegment.from_file('alarm.wav')\n",
    "cap = cv2.VideoCapture(video_path)\n",
    "calc = AlarmDetector(model, 300, 50)\n",
    "alarm = False\n",
    "\n",
    "while True:\n",
    "    ret, frame = cap.read(10)\n",
    "    if not ret:\n",
    "        break\n",
    "\n",
    "    results = model(frame, stream=True)\n",
    "\n",
    "    for r in results:\n",
    "        time.sleep(.01)\n",
    "        annotator = Annotator(frame)\n",
    "\n",
    "        boxes = r.boxes\n",
    "        calc.add_boxes(boxes)\n",
    "        for box in boxes:\n",
    "            b = box.xyxy[0]\n",
    "            c = box.cls\n",
    "            annotator.box_label(b, model.names[int(c)])\n",
    "\n",
    "        if calc.check_alarm() and not alarm:\n",
    "            alarm = True\n",
    "            play(alarm_sound)\n",
    "            # add to database and send notifications\n",
    "\n",
    "    frame = annotator.result()\n",
    "    cv2.imshow(\"Object Detection\", frame)\n",
    "\n",
    "    if cv2.waitKey(1) & 0xFF == ord('q'):\n",
    "        break\n",
    "\n",
    "cap.release()\n",
    "cv2.destroyAllWindows()"
   ],
   "metadata": {
    "collapsed": false
   }
  },
  {
   "cell_type": "code",
   "source": [
    "cap.release()\n",
    "cv2.destroyAllWindows()"
   ],
   "metadata": {
    "collapsed": false,
    "ExecuteTime": {
     "end_time": "2024-05-28T17:16:47.686422Z",
     "start_time": "2024-05-28T17:16:47.674116Z"
    }
   },
   "outputs": [],
   "execution_count": 6
  },
  {
   "cell_type": "code",
   "outputs": [],
   "source": [],
   "metadata": {
    "collapsed": false
   },
   "execution_count": null
  }
 ]
}
