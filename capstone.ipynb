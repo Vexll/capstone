{
 "cells": [
  {
   "cell_type": "markdown",
   "source": [
    "Dataset url: https://universe.roboflow.com/saharat-yyrhu/swimmingxdrowning/dataset/4"
   ],
   "metadata": {
    "collapsed": false
   },
   "id": "fdce78db8648fbe9"
  },
  {
   "cell_type": "code",
   "execution_count": 12,
   "id": "initial_id",
   "metadata": {
    "collapsed": true,
    "ExecuteTime": {
     "end_time": "2024-05-20T08:50:09.840018400Z",
     "start_time": "2024-05-20T08:50:09.827054100Z"
    }
   },
   "outputs": [],
   "source": [
    "from ultralytics import YOLO\n",
    "import os"
   ]
  },
  {
   "cell_type": "markdown",
   "source": [
    "#### Data Augmentation Step"
   ],
   "metadata": {
    "collapsed": false
   },
   "id": "35043f969c40f184"
  },
  {
   "cell_type": "code",
   "outputs": [
    {
     "name": "stdout",
     "output_type": "stream",
     "text": [
      "Downloading https://github.com/ultralytics/assets/releases/download/v8.2.0/yolov8n.pt to 'yolov8n.pt'...\n"
     ]
    },
    {
     "name": "stderr",
     "output_type": "stream",
     "text": [
      "100%|██████████| 6.23M/6.23M [00:00<00:00, 21.3MB/s]\n"
     ]
    }
   ],
   "source": [
    "model = YOLO('yolov8n.pt')\n",
    "\n",
    "augmentation_params = {\n",
    "    'degrees': 10,        # Rotation angle\n",
    "    'translate': 0.1,     # Translation fraction\n",
    "    'scale': 0.5,         # Scaling factor\n",
    "    'shear': 2.0,         # Shearing angle\n",
    "    'flipud': 0.5,        # Vertical flip probability\n",
    "    'fliplr': 0.5,        # Horizontal flip probability\n",
    "    'hsv_h': 0.015,       # HSV hue augmentation\n",
    "    'hsv_s': 0.7,         # HSV saturation augmentation\n",
    "    'hsv_v': 0.4,         # HSV value augmentation\n",
    "}"
   ],
   "metadata": {
    "collapsed": false,
    "ExecuteTime": {
     "end_time": "2024-05-20T08:07:52.076824100Z",
     "start_time": "2024-05-20T08:07:49.574928500Z"
    }
   },
   "id": "e94820adb566f0f5",
   "execution_count": 4
  },
  {
   "cell_type": "markdown",
   "source": [
    "#### Training step"
   ],
   "metadata": {
    "collapsed": false
   },
   "id": "48eda1a0f6bcf073"
  },
  {
   "cell_type": "markdown",
   "source": [
    "checking the data.yaml file"
   ],
   "metadata": {
    "collapsed": false
   },
   "id": "6012751a81c077a4"
  },
  {
   "cell_type": "code",
   "outputs": [],
   "source": [
    "data_path = ''\n",
    "\n",
    "if not os.path.exists(data_path):\n",
    "    raise FileNotFoundError(f\"{data_path} not found. Please check the path.\")"
   ],
   "metadata": {
    "collapsed": false,
    "ExecuteTime": {
     "end_time": "2024-05-20T08:50:48.298137Z",
     "start_time": "2024-05-20T08:50:48.289166500Z"
    }
   },
   "id": "df171b152660e49d",
   "execution_count": 15
  },
  {
   "cell_type": "markdown",
   "source": [
    "start training the model"
   ],
   "metadata": {
    "collapsed": false
   },
   "id": "620cba2dc2d43f23"
  },
  {
   "cell_type": "code",
   "outputs": [],
   "source": [
    "results = model.train(\n",
    "    data= 'C:\\\\Users\\\\Admin\\Desktop\\desktop\\Programming\\pythonProject\\deep_learning\\dataset\\SwimmingXDrowning\\data.yaml',\n",
    "    epochs=100,\n",
    "    imgsz=640,\n",
    "    augment=True,  # Enable augmentation\n",
    "    **augmentation_params  # Pass the augmentation parameters\n",
    ")"
   ],
   "metadata": {
    "collapsed": false
   },
   "id": "35399911a1bf2123"
  }
 ],
 "metadata": {
  "kernelspec": {
   "display_name": "Python 3",
   "language": "python",
   "name": "python3"
  },
  "language_info": {
   "codemirror_mode": {
    "name": "ipython",
    "version": 2
   },
   "file_extension": ".py",
   "mimetype": "text/x-python",
   "name": "python",
   "nbconvert_exporter": "python",
   "pygments_lexer": "ipython2",
   "version": "2.7.6"
  }
 },
 "nbformat": 4,
 "nbformat_minor": 5
}
