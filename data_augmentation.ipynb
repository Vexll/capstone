{
 "cells": [
  {
   "cell_type": "code",
   "execution_count": 14,
   "id": "initial_id",
   "metadata": {
    "collapsed": true,
    "ExecuteTime": {
     "end_time": "2024-05-20T09:24:05.388860600Z",
     "start_time": "2024-05-20T09:24:05.371906200Z"
    }
   },
   "outputs": [],
   "source": [
    "from tensorflow.keras.preprocessing.image import ImageDataGenerator, img_to_array, load_img, array_to_img\n",
    "import os\n",
    "import numpy as np"
   ]
  },
  {
   "cell_type": "code",
   "outputs": [],
   "source": [
    "def save_augmented_images(img, datagen, save_prefix, save_to_dir, num_augmented=5):\n",
    "    x = img_to_array(img)\n",
    "    x = x.reshape((1,) + x.shape)\n",
    "\n",
    "    i = 0\n",
    "    for batch in datagen.flow(x, batch_size=1, save_to_dir=save_to_dir, save_prefix=save_prefix, save_format='jpg'):\n",
    "        i += 1\n",
    "        if i >= num_augmented:\n",
    "            break"
   ],
   "metadata": {
    "collapsed": false,
    "ExecuteTime": {
     "end_time": "2024-05-20T09:40:16.887675800Z",
     "start_time": "2024-05-20T09:40:16.866733400Z"
    }
   },
   "id": "f90fa78561e1a4a4",
   "execution_count": 47
  },
  {
   "cell_type": "code",
   "outputs": [],
   "source": [
    "# Augmentation configuration\n",
    "datagen = ImageDataGenerator(\n",
    "    rotation_range=40,\n",
    "    width_shift_range=0.2,\n",
    "    height_shift_range=0.2,\n",
    "    shear_range=0.2,\n",
    "    zoom_range=0.2,\n",
    "    horizontal_flip=True,\n",
    "    fill_mode='nearest'\n",
    ")"
   ],
   "metadata": {
    "collapsed": false,
    "ExecuteTime": {
     "end_time": "2024-05-20T09:40:17.197433500Z",
     "start_time": "2024-05-20T09:40:17.178483100Z"
    }
   },
   "id": "6bfa72c1cb451f5",
   "execution_count": 48
  },
  {
   "cell_type": "code",
   "outputs": [],
   "source": [
    "labeled_folders = ['test/images/']\n",
    "# , 'train/images/', 'valid/images/'\n",
    "\n",
    "target_input_dir = 'dataset/testing/'\n",
    "output = 'dataset/Augmented_SwimmingXDrowning/'"
   ],
   "metadata": {
    "collapsed": false,
    "ExecuteTime": {
     "end_time": "2024-05-20T09:40:18.068975700Z",
     "start_time": "2024-05-20T09:40:18.061987600Z"
    }
   },
   "id": "1b4a44163167452b",
   "execution_count": 49
  },
  {
   "cell_type": "code",
   "outputs": [],
   "source": [
    "for folder in labeled_folders:\n",
    "    input_dir = target_input_dir + folder\n",
    "    for filename in os.listdir(input_dir):\n",
    "        if filename.endswith(('.png', '.jpg', '.jpeg')):\n",
    "            img_path = os.path.join(input_dir, filename)\n",
    "            img = load_img(img_path)\n",
    "            save_prefix = os.path.splitext(filename)[0]\n",
    "            save_augmented_images(img, datagen, save_prefix, output)\n",
    "        "
   ],
   "metadata": {
    "collapsed": false,
    "ExecuteTime": {
     "end_time": "2024-05-20T09:40:21.532253800Z",
     "start_time": "2024-05-20T09:40:21.206036600Z"
    }
   },
   "id": "73ef54efe68e8551",
   "execution_count": 50
  },
  {
   "cell_type": "code",
   "outputs": [],
   "source": [],
   "metadata": {
    "collapsed": false
   },
   "id": "3c6b0952fb0ea5bc"
  }
 ],
 "metadata": {
  "kernelspec": {
   "display_name": "Python 3",
   "language": "python",
   "name": "python3"
  },
  "language_info": {
   "codemirror_mode": {
    "name": "ipython",
    "version": 2
   },
   "file_extension": ".py",
   "mimetype": "text/x-python",
   "name": "python",
   "nbconvert_exporter": "python",
   "pygments_lexer": "ipython2",
   "version": "2.7.6"
  }
 },
 "nbformat": 4,
 "nbformat_minor": 5
}
